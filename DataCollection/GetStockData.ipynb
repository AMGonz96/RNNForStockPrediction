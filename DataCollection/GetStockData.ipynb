{
 "cells": [
  {
   "cell_type": "code",
   "execution_count": 1,
   "metadata": {
    "scrolled": false
   },
   "outputs": [],
   "source": [
    "#import needed packages\n",
    "import yfinance as yf\n",
    "from sklearn.feature_selection import VarianceThreshold\n",
    "import pandas as pd\n",
    "import numpy as np\n",
    "import statistics as stats"
   ]
  },
  {
   "cell_type": "code",
   "execution_count": 9,
   "metadata": {},
   "outputs": [
    {
     "name": "stdout",
     "output_type": "stream",
     "text": [
      "yfinance.Ticker object <AMZN>\n"
     ]
    }
   ],
   "source": [
    "#set Ticker for Amazon inc, set date ranged and Pull data.\n",
    "#date ranges are blank b/c differnt data ranges were used for the basic and advanced stock data data sets\n",
    "amzn = yf.Ticker(\"AMZN\")\n",
    "print(amzn)\n",
    "StockData = amzn.history(period=\"max\")\n",
    "StockData = amzn.history(start=\"\",  end=\"\")"
   ]
  },
  {
   "cell_type": "code",
   "execution_count": 12,
   "metadata": {
    "scrolled": true
   },
   "outputs": [],
   "source": [
    "#set next day open for basic stock data\n",
    "StockData['nextDayOpen'] = StockData[\"Open\"].shift(-1)\n",
    "StockData.to_csv('StockData.csv')"
   ]
  },
  {
   "cell_type": "code",
   "execution_count": 5,
   "metadata": {},
   "outputs": [],
   "source": [
    "#save stock data\n",
    "df = pd.read_csv(\"StockData.csv\")"
   ]
  },
  {
   "cell_type": "markdown",
   "metadata": {},
   "source": [
    "Funtions used to extract features from stock data"
   ]
  },
  {
   "cell_type": "code",
   "execution_count": 7,
   "metadata": {
    "scrolled": true
   },
   "outputs": [],
   "source": [
    "#Relative Strength Index\n",
    "def RSI(period):\n",
    "    delta = df['Close'].diff()\n",
    "    up, down = delta.copy(), delta.copy()        \n",
    "    up[up < 0] = 0\n",
    "    down[down > 0] = 0\n",
    "    roll_up = up.ewm(com=period - 1, adjust=False).mean()\n",
    "    roll_down = down.ewm(com=period - 1, adjust=False).mean().abs()     \n",
    "    rs = roll_up / roll_down\n",
    "    rsi = 100-(100/(1+rs))   \n",
    "    return rsi"
   ]
  },
  {
   "cell_type": "code",
   "execution_count": 8,
   "metadata": {
    "scrolled": true
   },
   "outputs": [],
   "source": [
    "#weighted moving average\n",
    "def WMA(n):\n",
    "    weights = np.arange(1,n+1)\n",
    "    wma = df['Close'].rolling(n).apply(lambda prices: np.dot(prices, weights)/weights.sum(), raw=True)\n",
    "    return wma"
   ]
  },
  {
   "cell_type": "code",
   "execution_count": 9,
   "metadata": {},
   "outputs": [],
   "source": [
    "#On-Balance Volume\n",
    "def OBV():\n",
    "    if (df[\"Close\"] > df[\"Close\"].shift(1)).bool :\n",
    "        ret = df[\"OBV\"].shift(1) + df[\"Volume\"]\n",
    "    elif df[\"Close\"] < df[\"Close\"].shift(1):\n",
    "        ret = df[\"OBV\"].shift(1) - df[\"Volume\"]\n",
    "    else:\n",
    "        ret = df[\"OBV\"].shift(1)\n",
    "    return ret"
   ]
  },
  {
   "cell_type": "code",
   "execution_count": 32,
   "metadata": {},
   "outputs": [],
   "source": [
    "#Bollinger Bands\n",
    "def BollingerBand(n):\n",
    "    name = \"BollingerBand_Up_\" + str(n) + \"_1std\"\n",
    "    df[name] = df['Close'].rolling(n).mean() + df['Close'].rolling(n).std()\n",
    "    name = \"BollingerBand_down_\" + str(n) + \"_1std\"\n",
    "    df[name] = df['Close'].rolling(n).mean() - df['Close'].rolling(n).std()\n",
    "    name = \"BollingerBand_Up_\" + str(n) + \"_2std\"\n",
    "    df[name] = df['Close'].rolling(n).mean() + 2*df['Close'].rolling(n).std()\n",
    "    name = \"BollingerBand_down_\" + str(n) + \"_2std\"\n",
    "    df[name] = df['Close'].rolling(n).mean() - 2*df['Close'].rolling(n).std()    "
   ]
  },
  {
   "cell_type": "markdown",
   "metadata": {},
   "source": [
    "All the indicators used"
   ]
  },
  {
   "cell_type": "code",
   "execution_count": 11,
   "metadata": {},
   "outputs": [],
   "source": [
    "df[\"close_to_open\"] = df[\"Close\"] / df[\"Open\"]\n",
    "df[\"close_to_high\"] = df[\"Close\"] / df[\"High\"]\n",
    "df[\"close_to_low\"] = df[\"Close\"] / df[\"Low\"]\n",
    "df[\"High_to_low\"] = df[\"High\"] / df[\"Low\"]"
   ]
  },
  {
   "cell_type": "code",
   "execution_count": 12,
   "metadata": {
    "scrolled": true
   },
   "outputs": [],
   "source": [
    "df[\"3d_momentum\"] = df[\"Close\"] / df[\"Close\"].shift(3)\n",
    "df[\"5d_momentum\"] = df[\"Close\"] / df[\"Close\"].shift(5)\n",
    "df[\"10d_momentum\"] = df[\"Close\"] / df[\"Close\"].shift(10)"
   ]
  },
  {
   "cell_type": "code",
   "execution_count": 13,
   "metadata": {},
   "outputs": [],
   "source": [
    "df[\"MovingAVG_5day\"] = df[\"Close\"].rolling(5).mean()\n",
    "df[\"MovingAVG_10day\"] = df[\"Close\"].rolling(10).mean()\n",
    "df[\"MovingAVG_50day\"] = df[\"Close\"].rolling(50).mean()\n",
    "df[\"MovingAVG_100day\"] = df[\"Close\"].rolling(100).mean()\n",
    "df[\"MovingAVG_20day\"] = df[\"Close\"].rolling(20).mean()"
   ]
  },
  {
   "cell_type": "code",
   "execution_count": 14,
   "metadata": {
    "scrolled": true
   },
   "outputs": [],
   "source": [
    "df[\"WeightedMovingAVG_5day\"] = WMA(5)\n",
    "df[\"WeightedMovingAVG_10day\"] = WMA(10)\n",
    "df[\"WeightedMovingAVG_50day\"] = WMA(50)\n",
    "df[\"WeightedMovingAVG_100day\"] = WMA(100)\n",
    "df[\"WeightedMovingAVG_20day\"] = WMA(20)"
   ]
  },
  {
   "cell_type": "code",
   "execution_count": 15,
   "metadata": {},
   "outputs": [],
   "source": [
    "df[\"ExponentialMovingAVG_5day\"] = df['Close'].ewm(span=5).mean()\n",
    "df[\"ExponentialMovingAVG_10day\"] = df['Close'].ewm(span=10).mean()\n",
    "df[\"ExponentialMovingAVG_50day\"] = df['Close'].ewm(span=50).mean()\n",
    "df[\"ExponentialMovingAVG_100day\"] = df['Close'].ewm(span=100).mean()\n",
    "df[\"ExponentialMovingAVG_20day\"] = df['Close'].ewm(span=20).mean()"
   ]
  },
  {
   "cell_type": "code",
   "execution_count": 16,
   "metadata": {},
   "outputs": [],
   "source": [
    "df[\"MACD_5-10day\"] = df[\"ExponentialMovingAVG_5day\"] - df[\"ExponentialMovingAVG_10day\"]\n",
    "df[\"MACD_10-20day\"] = df[\"ExponentialMovingAVG_10day\"] - df[\"ExponentialMovingAVG_20day\"]\n",
    "df[\"MACD_20-50day\"] = df[\"ExponentialMovingAVG_20day\"] - df[\"ExponentialMovingAVG_50day\"]\n",
    "df[\"MACD_50-100day\"] = df[\"ExponentialMovingAVG_50day\"] - df[\"ExponentialMovingAVG_100day\"]"
   ]
  },
  {
   "cell_type": "code",
   "execution_count": 17,
   "metadata": {},
   "outputs": [],
   "source": [
    "df[\"2weekSignal_5-10day\"] = df[\"MACD_5-10day\"].ewm(span=10).mean()\n",
    "df[\"2weekSignal_10-20day\"] = df[\"MACD_10-20day\"].ewm(span=10).mean()\n",
    "df[\"2weekSignal_20-50day\"] = df[\"MACD_20-50day\"].ewm(span=10).mean()\n",
    "df[\"2weekSignal_50-100day\"] = df[\"MACD_50-100day\"].ewm(span=10).mean()"
   ]
  },
  {
   "cell_type": "code",
   "execution_count": 18,
   "metadata": {
    "scrolled": true
   },
   "outputs": [],
   "source": [
    "df['RSI_2day'] = RSI(2)\n",
    "df['RSI_5day'] = RSI(5)\n",
    "df['RSI_10day'] = RSI(10)\n",
    "df['RSI_14day'] = RSI(14)\n",
    "df['RSI_20day'] = RSI(20)\n",
    "df['RSI_50day'] = RSI(50)\n",
    "df['RSI_100day'] = RSI(100)"
   ]
  },
  {
   "cell_type": "code",
   "execution_count": 19,
   "metadata": {},
   "outputs": [],
   "source": [
    "df[\"High_5day\"] = df[\"High\"].rolling(5).max()\n",
    "df[\"High_10day\"] = df[\"High\"].rolling(10).max()\n",
    "df[\"High_20day\"] = df[\"High\"].rolling(20).max()\n",
    "df[\"High_50day\"] = df[\"High\"].rolling(50).max()\n",
    "df[\"High_100day\"] = df[\"High\"].rolling(100).max()"
   ]
  },
  {
   "cell_type": "code",
   "execution_count": 20,
   "metadata": {},
   "outputs": [],
   "source": [
    "df[\"Low_5day\"] = df[\"Low\"].rolling(5).min()\n",
    "df[\"Low_10day\"] = df[\"Low\"].rolling(10).min()\n",
    "df[\"Low_20day\"] = df[\"Low\"].rolling(20).min()\n",
    "df[\"Low_50day\"] = df[\"Low\"].rolling(50).min()\n",
    "df[\"Low_100day\"] = df[\"Low\"].rolling(100).min()"
   ]
  },
  {
   "cell_type": "code",
   "execution_count": 21,
   "metadata": {},
   "outputs": [],
   "source": [
    "df[\"VolumeAVG_5day\"] = df[\"Volume\"].rolling(5).mean()\n",
    "df[\"VolumeAVG_10day\"] = df[\"Volume\"].rolling(10).mean()\n",
    "df[\"VolumeAVG_20day\"] = df[\"Volume\"].rolling(20).mean()\n",
    "df[\"VolumeAVG_50day\"] = df[\"Volume\"].rolling(50).mean()\n",
    "df[\"VolumeAVG_100day\"] = df[\"Volume\"].rolling(100).mean()"
   ]
  },
  {
   "cell_type": "code",
   "execution_count": 22,
   "metadata": {},
   "outputs": [],
   "source": [
    "df[\"YCloseToTOpen\"] = df[\"Close\"].shift(1) / df[\"Open\"]\n",
    "df[\"YCloseToTOpen_5day\"] = df[\"YCloseToTOpen\"].rolling(5).mean()\n",
    "df[\"YCloseToTOpen_10day\"] = df[\"YCloseToTOpen\"].rolling(10).mean()\n",
    "df[\"YCloseToTOpen_20day\"] = df[\"YCloseToTOpen\"].rolling(20).mean()\n",
    "df[\"YCloseToTOpen_50day\"] = df[\"YCloseToTOpen\"].rolling(50).mean()\n",
    "df[\"YCloseToTOpen_100day\"] = df[\"YCloseToTOpen\"].rolling(100).mean()"
   ]
  },
  {
   "cell_type": "code",
   "execution_count": 23,
   "metadata": {},
   "outputs": [],
   "source": [
    "df[\"close_to_open_5day\"] = df[\"close_to_open\"].rolling(5).mean()\n",
    "df[\"close_to_open_10day\"] = df[\"close_to_open\"].rolling(10).mean()\n",
    "df[\"close_to_open_20day\"] = df[\"close_to_open\"].rolling(20).mean()\n",
    "df[\"close_to_open_50day\"] = df[\"close_to_open\"].rolling(50).mean()\n",
    "df[\"close_to_open_100day\"] = df[\"close_to_open\"].rolling(100).mean()"
   ]
  },
  {
   "cell_type": "code",
   "execution_count": 24,
   "metadata": {},
   "outputs": [],
   "source": [
    "df[\"close_to_high_5day\"] = df[\"close_to_high\"].rolling(5).mean()\n",
    "df[\"close_to_high_10day\"] = df[\"close_to_high\"].rolling(10).mean()\n",
    "df[\"close_to_high_20day\"] = df[\"close_to_high\"].rolling(20).mean()\n",
    "df[\"close_to_high_50day\"] = df[\"close_to_high\"].rolling(50).mean()\n",
    "df[\"close_to_high_100day\"] = df[\"close_to_high\"].rolling(100).mean()"
   ]
  },
  {
   "cell_type": "code",
   "execution_count": 25,
   "metadata": {},
   "outputs": [],
   "source": [
    "df[\"close_to_low_5day\"] = df[\"close_to_low\"].rolling(5).mean()\n",
    "df[\"close_to_low_10day\"] = df[\"close_to_low\"].rolling(10).mean()\n",
    "df[\"close_to_low_20day\"] = df[\"close_to_low\"].rolling(20).mean()\n",
    "df[\"close_to_low_50day\"] = df[\"close_to_low\"].rolling(50).mean()\n",
    "df[\"close_to_low_100day\"] = df[\"close_to_low\"].rolling(100).mean()"
   ]
  },
  {
   "cell_type": "code",
   "execution_count": 26,
   "metadata": {},
   "outputs": [],
   "source": [
    "df[\"stochastic_oscillator_5day\"] = ((df[\"Close\"].shift(1) - df[\"Low_5day\"]) / (df[\"High_5day\"] - df[\"Low_5day\"]))\n",
    "df[\"stochastic_oscillator_10day\"] = ((df[\"Close\"].shift(1) - df[\"Low_10day\"]) / (df[\"High_10day\"] - df[\"Low_10day\"]))\n",
    "df[\"stochastic_oscillator_20day\"] = ((df[\"Close\"].shift(1) - df[\"Low_20day\"]) / (df[\"High_20day\"] - df[\"Low_20day\"]))\n",
    "df[\"stochastic_oscillator_50day\"] = ((df[\"Close\"].shift(1) - df[\"Low_50day\"]) / (df[\"High_50day\"] - df[\"Low_50day\"]))\n",
    "df[\"stochastic_oscillator_100day\"] = ((df[\"Close\"].shift(1) - df[\"Low_100day\"]) / (df[\"High_100day\"] - df[\"Low_100day\"]))"
   ]
  },
  {
   "cell_type": "code",
   "execution_count": 27,
   "metadata": {},
   "outputs": [],
   "source": [
    "df[\"openSTD_5day\"] = df[\"Open\"].rolling(5).std()\n",
    "df[\"openSTD_10day\"] = df[\"Open\"].rolling(10).std()\n",
    "df[\"openSTD_20day\"] = df[\"Open\"].rolling(20).std()\n",
    "df[\"openSTD_50day\"] = df[\"Open\"].rolling(50).std()\n",
    "df[\"openSTD_100day\"] = df[\"Open\"].rolling(100).std()"
   ]
  },
  {
   "cell_type": "code",
   "execution_count": 28,
   "metadata": {},
   "outputs": [],
   "source": [
    "df[\"closeSTD_5day\"] = df[\"Close\"].rolling(5).std()\n",
    "df[\"closeSTD_10day\"] = df[\"Close\"].rolling(10).std()\n",
    "df[\"closeSTD_20day\"] = df[\"Close\"].rolling(20).std()\n",
    "df[\"closeSTD_50day\"] = df[\"Close\"].rolling(50).std()\n",
    "df[\"closeSTD_100day\"] = df[\"Close\"].rolling(100).std()"
   ]
  },
  {
   "cell_type": "code",
   "execution_count": 30,
   "metadata": {
    "scrolled": true
   },
   "outputs": [],
   "source": [
    "df[\"OBV\"] = 0\n",
    "df[\"OBV\"] = OBV()    "
   ]
  },
  {
   "cell_type": "code",
   "execution_count": 33,
   "metadata": {},
   "outputs": [],
   "source": [
    "BollingerBand(5)\n",
    "BollingerBand(10)\n",
    "BollingerBand(20)\n",
    "BollingerBand(50)\n",
    "BollingerBand(100)"
   ]
  },
  {
   "cell_type": "code",
   "execution_count": 54,
   "metadata": {},
   "outputs": [],
   "source": [
    "df[\"BollingerBand_5day2stdDiff\"] = df[\"BollingerBand_Up_5_2std\"] - df[\"BollingerBand_down_5_2std\"]\n",
    "df[\"BollingerBand_5day1stdDiff\"] = df[\"BollingerBand_Up_5_1std\"] - df[\"BollingerBand_down_5_1std\"]\n",
    "df[\"BollingerBand_10day2stdDiff\"] = df[\"BollingerBand_Up_10_2std\"] - df[\"BollingerBand_down_10_2std\"]\n",
    "df[\"BollingerBand_10day1stdDiff\"] = df[\"BollingerBand_Up_10_1std\"] - df[\"BollingerBand_down_10_1std\"]\n",
    "df[\"BollingerBand_20day2stdDiff\"] = df[\"BollingerBand_Up_20_2std\"] - df[\"BollingerBand_down_20_2std\"]\n",
    "df[\"BollingerBand_20day1stdDiff\"] = df[\"BollingerBand_Up_20_1std\"] - df[\"BollingerBand_down_20_1std\"]\n",
    "df[\"BollingerBand_50day2stdDiff\"] = df[\"BollingerBand_Up_50_2std\"] - df[\"BollingerBand_down_50_2std\"]\n",
    "df[\"BollingerBand_50day1stdDiff\"] = df[\"BollingerBand_Up_50_1std\"] - df[\"BollingerBand_down_50_1std\"]\n",
    "df[\"BollingerBand_100day2stdDiff\"] = df[\"BollingerBand_Up_100_2std\"] - df[\"BollingerBand_down_100_2std\"]\n",
    "df[\"BollingerBand_100day1stdDiff\"] = df[\"BollingerBand_Up_100_1std\"] - df[\"BollingerBand_down_100_1std\"]"
   ]
  },
  {
   "cell_type": "code",
   "execution_count": 57,
   "metadata": {},
   "outputs": [],
   "source": [
    "#drop unwanted dates for final data set\n",
    "ranges = np.arange(0,199)\n",
    "out = df.drop(ranges)\n",
    "out = out.reset_index(drop=True)\n",
    "out = out.drop([2476,2477])"
   ]
  },
  {
   "cell_type": "code",
   "execution_count": 60,
   "metadata": {},
   "outputs": [],
   "source": [
    "#save data\n",
    "out.to_csv('ExtrackedStockData.csv')"
   ]
  }
 ],
 "metadata": {
  "kernelspec": {
   "display_name": "Python 3",
   "language": "python",
   "name": "python3"
  },
  "language_info": {
   "codemirror_mode": {
    "name": "ipython",
    "version": 3
   },
   "file_extension": ".py",
   "mimetype": "text/x-python",
   "name": "python",
   "nbconvert_exporter": "python",
   "pygments_lexer": "ipython3",
   "version": "3.8.3"
  }
 },
 "nbformat": 4,
 "nbformat_minor": 2
}
