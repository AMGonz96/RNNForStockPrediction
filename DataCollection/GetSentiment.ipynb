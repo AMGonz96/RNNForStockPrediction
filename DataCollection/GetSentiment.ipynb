{
 "cells": [
  {
   "cell_type": "code",
   "execution_count": 6,
   "metadata": {},
   "outputs": [],
   "source": [
    "import pandas as pd\n",
    "from nltk.sentiment.vader import SentimentIntensityAnalyzer\n",
    "\n",
    "vader = SentimentIntensityAnalyzer()"
   ]
  },
  {
   "cell_type": "code",
   "execution_count": 7,
   "metadata": {},
   "outputs": [],
   "source": [
    "df = pd.read_csv(\"ArticalData.csv\")"
   ]
  },
  {
   "cell_type": "code",
   "execution_count": 8,
   "metadata": {},
   "outputs": [
    {
     "data": {
      "text/plain": [
       "Unnamed: 0      0\n",
       "Date            0\n",
       "KeyWords       12\n",
       "Artical         0\n",
       "good            0\n",
       "Source          0\n",
       "News Desk     209\n",
       "Headline        0\n",
       "Abstract        0\n",
       "Subjects        0\n",
       "dtype: int64"
      ]
     },
     "execution_count": 8,
     "metadata": {},
     "output_type": "execute_result"
    }
   ],
   "source": [
    "df.isnull().sum()"
   ]
  },
  {
   "cell_type": "code",
   "execution_count": 23,
   "metadata": {
    "scrolled": true
   },
   "outputs": [
    {
     "data": {
      "text/plain": [
       "(1128, 10)"
      ]
     },
     "execution_count": 23,
     "metadata": {},
     "output_type": "execute_result"
    }
   ],
   "source": [
    "df.shape"
   ]
  },
  {
   "cell_type": "code",
   "execution_count": 9,
   "metadata": {},
   "outputs": [],
   "source": [
    "#save time data\n",
    "Time = df[\"Date\"]"
   ]
  },
  {
   "cell_type": "code",
   "execution_count": 10,
   "metadata": {},
   "outputs": [],
   "source": [
    "#get sentiment scores for healdline\n",
    "score = df['Headline'].apply(vader.polarity_scores).tolist()\n",
    "HeadlineScore = pd.DataFrame(score)\n",
    "HeadlineScore = HeadlineScore.rename(columns={\"neg\": \"Headline neg\", \"neu\": \"Headline neu\", \"pos\": \"Headline pos\", \"compound\": \"Headline compound\"})"
   ]
  },
  {
   "cell_type": "code",
   "execution_count": 13,
   "metadata": {},
   "outputs": [],
   "source": [
    "#get sentiment scores for Abstract\n",
    "abstract = df['Abstract'].apply(vader.polarity_scores).tolist()\n",
    "AbstractScore = pd.DataFrame(abstract)\n",
    "AbstractScore = AbstractScore.rename(columns={\"neg\": \"Abstract neg\", \"neu\": \"Abstract neu\", \"pos\": \"Abstract pos\", \"compound\": \"Abstract compound\"})"
   ]
  },
  {
   "cell_type": "code",
   "execution_count": 16,
   "metadata": {
    "scrolled": true
   },
   "outputs": [],
   "source": [
    "#get sentiment scores for Artical\n",
    "art = df['Artical'].apply(vader.polarity_scores).tolist()\n",
    "ArticalScore = pd.DataFrame(art)\n",
    "ArticalScore = ArticalScore.rename(columns={\"neg\": \"Artical neg\", \"neu\": \"Artical neu\", \"pos\": \"Artical pos\", \"compound\": \"Artical compound\"})"
   ]
  },
  {
   "cell_type": "code",
   "execution_count": 18,
   "metadata": {},
   "outputs": [],
   "source": [
    "#Combine healdline, Abstract, Artical sentiment\n",
    "TextSentiment = pd.concat([HeadlineScore, AbstractScore ,ArticalScore], axis=1, sort=False)\n",
    "TextSentiment = pd.concat([Time, TextSentiment], axis=1, sort=False)"
   ]
  },
  {
   "cell_type": "code",
   "execution_count": 88,
   "metadata": {},
   "outputs": [],
   "source": [
    "#save file\n",
    "TextSentiment.to_csv('TextSentiment.csv')"
   ]
  }
 ],
 "metadata": {
  "kernelspec": {
   "display_name": "Python 3",
   "language": "python",
   "name": "python3"
  },
  "language_info": {
   "codemirror_mode": {
    "name": "ipython",
    "version": 3
   },
   "file_extension": ".py",
   "mimetype": "text/x-python",
   "name": "python",
   "nbconvert_exporter": "python",
   "pygments_lexer": "ipython3",
   "version": "3.8.3"
  }
 },
 "nbformat": 4,
 "nbformat_minor": 2
}
