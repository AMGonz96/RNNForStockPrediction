{
 "cells": [
  {
   "cell_type": "code",
   "execution_count": 1,
   "metadata": {
    "scrolled": true
   },
   "outputs": [],
   "source": [
    "# Import libraries\n",
    "import requests\n",
    "import json\n",
    "import datetime\n",
    "import pandas as pd\n",
    "import time\n",
    "\n",
    "#need information for the API\n",
    "key = \"\"\n",
    "end = datetime.date(2020, 7, 1)\n",
    "start = datetime.date(2010, 6, 1)\n",
    "url1 = \"https://api.nytimes.com/svc/search/v2/articlesearch.json?begin_date=\"\n",
    "url2 = \"&end_date=\"\n",
    "url3 = \"&fq=organizations%3A(%22AMAZON.COM%20INC%22)&api-key=\""
   ]
  },
  {
   "cell_type": "code",
   "execution_count": 2,
   "metadata": {},
   "outputs": [],
   "source": [
    "#api only will return one month at a times this creates a list of all the months in the wanted time range\n",
    "months_in_range = [x.split(' ') for x in pd.date_range(start, end, freq='MS').strftime(\"%Y %-m\")]"
   ]
  },
  {
   "cell_type": "code",
   "execution_count": 3,
   "metadata": {
    "scrolled": true
   },
   "outputs": [],
   "source": [
    "#reformats the dates in the list so it is readable for the API\n",
    "times = []\n",
    "for line in months_in_range:\n",
    "    temp = line[0]\n",
    "    temp = temp.split('-')\n",
    "    temp = ''.join(temp)\n",
    "    times.append(temp)    "
   ]
  },
  {
   "cell_type": "code",
   "execution_count": 4,
   "metadata": {},
   "outputs": [],
   "source": [
    "#puts together requestUrl and gets data from API\n",
    "def Pulldata(Start, End):\n",
    "    requestUrl = send = url1 + Start+ url2 + End + url3 + key\n",
    "    request = requests.get(requestUrl)\n",
    "    json_data = request.json()\n",
    "    return json_data"
   ]
  },
  {
   "cell_type": "code",
   "execution_count": 5,
   "metadata": {},
   "outputs": [],
   "source": [
    "#filters the API data the the wanted data\n",
    "def FilterJson(data, ret):\n",
    "    length = len(data['response']['docs'])\n",
    "    for x in range(0,length):\n",
    "        temp = {}\n",
    "        temp['Date'] = data['response']['docs'][x][\"pub_date\"]\n",
    "        temp['Headline'] = data['response']['docs'][x][\"headline\"][\"main\"]\n",
    "        temp['Abstract'] = data['response']['docs'][x][\"abstract\"]\n",
    "        keywords = data['response']['docs'][x][\"keywords\"]\n",
    "        temp['Lead'] = data['response']['docs'][x][\"lead_paragraph\"]\n",
    "        temp['Subjects'] = GetSubject(keywords)\n",
    "        temp['News Desk'] = data['response']['docs'][x][\"news_desk\"]        \n",
    "        temp['Source'] = data['response']['docs'][x][\"source\"]\n",
    "        temp['Document Type'] = data['response']['docs'][x][\"document_type\"]\n",
    "        temp['URL'] = data['response']['docs'][x][\"web_url\"]\n",
    "        ret.append(temp)\n",
    "    return ret\n",
    "        "
   ]
  },
  {
   "cell_type": "code",
   "execution_count": 6,
   "metadata": {},
   "outputs": [],
   "source": [
    "#Returns ony keywords that are relvant to the subject of the artical \n",
    "def GetSubject(keywords):\n",
    "    loopfor = len(keywords)\n",
    "    ret = []\n",
    "    for x in range(0,loopfor):\n",
    "        if keywords[x][\"name\"] == \"subject\":\n",
    "            temp = keywords[x][\"value\"]\n",
    "            ret.append(temp)\n",
    "    return ret\n",
    "        "
   ]
  },
  {
   "cell_type": "code",
   "execution_count": 7,
   "metadata": {},
   "outputs": [],
   "source": [
    "#function that makes api request, filters out the data and returns it in a list\n",
    "def Getnews(times):\n",
    "    ret = []\n",
    "    check = True\n",
    "    loopFor = len(times) - 1\n",
    "    for x in range(0,loopFor):       \n",
    "        Start = times[x]\n",
    "        End = times[x+1]\n",
    "        json_data = Pulldata(Start, End)\n",
    "        ret = FilterJson(json_data, ret)\n",
    "        time.sleep(6)\n",
    "    return ret\n",
    "            \n",
    "        \n",
    "        "
   ]
  },
  {
   "cell_type": "code",
   "execution_count": 8,
   "metadata": {},
   "outputs": [],
   "source": [
    "data = Getnews(times)"
   ]
  },
  {
   "cell_type": "code",
   "execution_count": 11,
   "metadata": {
    "scrolled": true
   },
   "outputs": [],
   "source": [
    "#create data frame \n",
    "outdf = pd.DataFrame(data, columns = ['Date', 'Headline','Abstract','Lead','Subjects','News Desk','Source',\"document_type\",'URL'])"
   ]
  },
  {
   "cell_type": "code",
   "execution_count": 13,
   "metadata": {},
   "outputs": [],
   "source": [
    "outdf.to_csv('NytApiData.csv')"
   ]
  },
  {
   "cell_type": "code",
   "execution_count": null,
   "metadata": {},
   "outputs": [],
   "source": []
  },
  {
   "cell_type": "code",
   "execution_count": null,
   "metadata": {},
   "outputs": [],
   "source": []
  },
  {
   "cell_type": "code",
   "execution_count": null,
   "metadata": {},
   "outputs": [],
   "source": []
  },
  {
   "cell_type": "code",
   "execution_count": null,
   "metadata": {},
   "outputs": [],
   "source": []
  },
  {
   "cell_type": "code",
   "execution_count": null,
   "metadata": {},
   "outputs": [],
   "source": []
  },
  {
   "cell_type": "code",
   "execution_count": null,
   "metadata": {},
   "outputs": [],
   "source": []
  }
 ],
 "metadata": {
  "kernelspec": {
   "display_name": "Python 3",
   "language": "python",
   "name": "python3"
  },
  "language_info": {
   "codemirror_mode": {
    "name": "ipython",
    "version": 3
   },
   "file_extension": ".py",
   "mimetype": "text/x-python",
   "name": "python",
   "nbconvert_exporter": "python",
   "pygments_lexer": "ipython3",
   "version": "3.8.3"
  }
 },
 "nbformat": 4,
 "nbformat_minor": 2
}
