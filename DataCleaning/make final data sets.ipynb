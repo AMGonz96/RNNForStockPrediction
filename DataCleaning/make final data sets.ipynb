{
 "cells": [
  {
   "cell_type": "code",
   "execution_count": 1,
   "metadata": {},
   "outputs": [],
   "source": [
    "import pandas as pd"
   ]
  },
  {
   "cell_type": "code",
   "execution_count": 2,
   "metadata": {},
   "outputs": [],
   "source": [
    "#load and clean data\n",
    "dfn = pd.read_csv(\"BisDayNews.csv\")\n",
    "dfn = dfn.drop('Unnamed: 0', axis=1)\n",
    "dfs1 = pd.read_csv(\"StockData.csv\")\n",
    "dfs2 = dfs1[\"Date\"]"
   ]
  },
  {
   "cell_type": "code",
   "execution_count": 4,
   "metadata": {},
   "outputs": [],
   "source": [
    "dfs1 = pd.DataFrame(dfs1, columns=[\"Date\"], index=dfs1.index)"
   ]
  },
  {
   "cell_type": "code",
   "execution_count": 5,
   "metadata": {},
   "outputs": [],
   "source": [
    "#make columns to merge on to \n",
    "dfs1[\"merge\"] = pd.to_datetime(dfs1[\"Date\"])\n",
    "dfn[\"merge\"] = pd.to_datetime(dfn[\"Time\"])"
   ]
  },
  {
   "cell_type": "code",
   "execution_count": 6,
   "metadata": {},
   "outputs": [],
   "source": [
    "#merge data\n",
    "result = pd.merge(dfs1, dfn, how='left', on=['merge'])"
   ]
  },
  {
   "cell_type": "code",
   "execution_count": 23,
   "metadata": {},
   "outputs": [],
   "source": [
    "#clean final data as needed\n",
    "index = [0,1,2,3,4,2481,2482]\n",
    "out = result.drop(index)\n",
    "out = out.fillna(0)\n",
    "out = out.drop('merge', axis=1)\n",
    "out = out.drop('Time', axis=1)"
   ]
  },
  {
   "cell_type": "code",
   "execution_count": 24,
   "metadata": {},
   "outputs": [],
   "source": [
    "#save news data with basic stock features\n",
    "out.to_csv('ExNewsData.csv')"
   ]
  },
  {
   "cell_type": "code",
   "execution_count": null,
   "metadata": {},
   "outputs": [],
   "source": []
  },
  {
   "cell_type": "code",
   "execution_count": 14,
   "metadata": {},
   "outputs": [],
   "source": [
    "#load and clean data\n",
    "dfs2 = pd.read_csv('ExtrackedStockData.csv')\n",
    "dfs2 = dfs2.drop('Unnamed: 0', axis=1)"
   ]
  },
  {
   "cell_type": "code",
   "execution_count": 15,
   "metadata": {},
   "outputs": [],
   "source": [
    "#merge data\n",
    "dfs2[\"merge\"] = pd.to_datetime(dfs1[\"Date\"])\n",
    "result2 = pd.merge(dfs2, dfn, how='left', on=['merge'])"
   ]
  },
  {
   "cell_type": "code",
   "execution_count": null,
   "metadata": {
    "scrolled": true
   },
   "outputs": [],
   "source": [
    "#clean final data as needed\n",
    "out2 = result2.fillna(0)\n",
    "out2 = out2.drop('merge', axis=1)\n",
    "out2 = out2.drop('Time', axis=1)"
   ]
  },
  {
   "cell_type": "code",
   "execution_count": 17,
   "metadata": {},
   "outputs": [],
   "source": [
    "#save news data with Extracked stock features\n",
    "out2.to_csv('EXStockDataWithNewsData.csv')"
   ]
  },
  {
   "cell_type": "code",
   "execution_count": null,
   "metadata": {},
   "outputs": [],
   "source": []
  },
  {
   "cell_type": "code",
   "execution_count": 19,
   "metadata": {},
   "outputs": [],
   "source": []
  },
  {
   "cell_type": "code",
   "execution_count": null,
   "metadata": {},
   "outputs": [],
   "source": []
  }
 ],
 "metadata": {
  "kernelspec": {
   "display_name": "Python 3",
   "language": "python",
   "name": "python3"
  },
  "language_info": {
   "codemirror_mode": {
    "name": "ipython",
    "version": 3
   },
   "file_extension": ".py",
   "mimetype": "text/x-python",
   "name": "python",
   "nbconvert_exporter": "python",
   "pygments_lexer": "ipython3",
   "version": "3.8.3"
  }
 },
 "nbformat": 4,
 "nbformat_minor": 2
}
