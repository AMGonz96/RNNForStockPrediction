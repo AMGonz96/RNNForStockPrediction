{
 "cells": [
  {
   "cell_type": "code",
   "execution_count": 1,
   "metadata": {},
   "outputs": [],
   "source": [
    "import pandas as pd"
   ]
  },
  {
   "cell_type": "code",
   "execution_count": 2,
   "metadata": {},
   "outputs": [],
   "source": [
    "df = pd.read_csv(\"TextSentiment.csv\")\n",
    "df1 = pd.read_csv(\"DummyVariables.csv\")"
   ]
  },
  {
   "cell_type": "code",
   "execution_count": 3,
   "metadata": {},
   "outputs": [],
   "source": [
    "#clean data as needed\n",
    "df = df.drop('Unnamed: 0', axis=1)\n",
    "df1 = df1.drop('Unnamed: 0', axis=1)\n",
    "df = df.drop('Date.1', axis=1)\n",
    "df1 = df1.drop('Date', axis=1)"
   ]
  },
  {
   "cell_type": "code",
   "execution_count": 4,
   "metadata": {},
   "outputs": [],
   "source": [
    "NewsData = pd.concat([df, df1], axis=1, sort=False)"
   ]
  },
  {
   "cell_type": "code",
   "execution_count": 6,
   "metadata": {},
   "outputs": [],
   "source": [
    "ret = []\n",
    "for index, row in NewsData.iterrows():\n",
    "    temp = df.loc[index,\"Date\"]\n",
    "    hold = temp.split(\"T\")\n",
    "    x = hold[0]\n",
    "    ret.append(x)"
   ]
  },
  {
   "cell_type": "code",
   "execution_count": 7,
   "metadata": {},
   "outputs": [],
   "source": [
    "df2 = pd.DataFrame({\"Time\": ret})"
   ]
  },
  {
   "cell_type": "code",
   "execution_count": 8,
   "metadata": {},
   "outputs": [],
   "source": [
    "NewsData = pd.concat([df2, NewsData], axis=1, sort=False)"
   ]
  },
  {
   "cell_type": "code",
   "execution_count": 9,
   "metadata": {
    "scrolled": true
   },
   "outputs": [],
   "source": [
    "NewsData = NewsData.drop('Date', axis=1)\n",
    "NewsData = NewsData.drop('good', axis=1)\n",
    "NewsData = NewsData.dropna()"
   ]
  },
  {
   "cell_type": "code",
   "execution_count": 10,
   "metadata": {
    "scrolled": false
   },
   "outputs": [],
   "source": [
    "NewsX = NewsData.sort_values(by=['Time'])"
   ]
  },
  {
   "cell_type": "code",
   "execution_count": 11,
   "metadata": {},
   "outputs": [],
   "source": [
    "NewsX = NewsX.reset_index(drop=True)\n"
   ]
  },
  {
   "cell_type": "markdown",
   "metadata": {
    "scrolled": true
   },
   "source": [
    "Funtions developed that combines rows for news data that rakes place on the same day. "
   ]
  },
  {
   "cell_type": "code",
   "execution_count": 12,
   "metadata": {
    "scrolled": true
   },
   "outputs": [],
   "source": [
    "def Eliminalterows(NewsX):\n",
    "    indexs = []\n",
    "    new = []\n",
    "    for index, row in NewsX.iterrows():\n",
    "        x = NewsX.loc[index,\"Time\"]\n",
    "        temp = index + 1\n",
    "        y = NewsX.loc[temp,\"Time\"]\n",
    "        if x == y:\n",
    "            indexs.append(index)\n",
    "            indexs.append(temp)\n",
    "            hold = []\n",
    "            count = 0\n",
    "            for (columnName, columnData) in NewsX.loc[index].iteritems():\n",
    "                if columnName == \"Time\":\n",
    "                    hold.append(columnData)\n",
    "                else:\n",
    "                    X = columnData\n",
    "                    Y = NewsX.loc[temp,columnName]\n",
    "                    val1 = X + Y\n",
    "\n",
    "                    val2 = val1/2\n",
    "                    if count > 12:\n",
    "                        X = columnData\n",
    "                        Y = NewsX.loc[temp,columnName]\n",
    "\n",
    "                        val1 = X + Y\n",
    "                        val2 = int(val1)/2\n",
    "                        if val2 != 0:\n",
    "                            val2 = 1.0\n",
    "                            hold.append(val2)\n",
    "                        else:\n",
    "                            hold.append(val2)                    \n",
    "                    else:\n",
    "                        hold.append(val2)\n",
    "                count = count + 1\n",
    "            new.append(hold)\n",
    "\n",
    "\n",
    "        if temp == NewsX.shape[0] - 1:\n",
    "            break\n",
    "    return new, indexs \n",
    "\n",
    "def removeduprows(df):\n",
    "    df = df.sort_values(by=['Time'])\n",
    "    df = df.reset_index(drop=True)\n",
    "    new, index = Eliminalterows(df)\n",
    "    dups = len(index)\n",
    "    print(\"dup row count:\" , dups)\n",
    "    new1 = pd.DataFrame(new, columns = df.columns)\n",
    "    out = df.drop(index)\n",
    "    out = pd.concat([out, new1], axis=0, sort=False)\n",
    "    return out            "
   ]
  },
  {
   "cell_type": "code",
   "execution_count": 13,
   "metadata": {},
   "outputs": [
    {
     "name": "stdout",
     "output_type": "stream",
     "text": [
      "dup row count: 456\n",
      "dup row count: 82\n",
      "dup row count: 24\n",
      "dup row count: 10\n",
      "dup row count: 6\n",
      "dup row count: 4\n",
      "dup row count: 2\n",
      "dup row count: 0\n"
     ]
    }
   ],
   "source": [
    "#removeduprows could be used in a loop until the output = 0.\n",
    "#it was done like this to test that the funtions worked as intended.\n",
    "out1 = removeduprows(NewsX)\n",
    "out2 = removeduprows(out1)\n",
    "out3 = removeduprows(out2)\n",
    "out4 = removeduprows(out3)\n",
    "out5 = removeduprows(out4)\n",
    "out6 = removeduprows(out5)\n",
    "out7= removeduprows(out6)\n",
    "out8 = removeduprows(out7)"
   ]
  },
  {
   "cell_type": "code",
   "execution_count": null,
   "metadata": {},
   "outputs": [],
   "source": [
    "#save data\n",
    "out8.to_csv('CleanedNewData.csv')"
   ]
  }
 ],
 "metadata": {
  "kernelspec": {
   "display_name": "Python 3",
   "language": "python",
   "name": "python3"
  },
  "language_info": {
   "codemirror_mode": {
    "name": "ipython",
    "version": 3
   },
   "file_extension": ".py",
   "mimetype": "text/x-python",
   "name": "python",
   "nbconvert_exporter": "python",
   "pygments_lexer": "ipython3",
   "version": "3.8.3"
  }
 },
 "nbformat": 4,
 "nbformat_minor": 2
}
