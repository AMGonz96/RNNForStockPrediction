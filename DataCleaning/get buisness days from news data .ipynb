{
 "cells": [
  {
   "cell_type": "code",
   "execution_count": 1,
   "metadata": {},
   "outputs": [],
   "source": [
    "import pandas as pd"
   ]
  },
  {
   "cell_type": "code",
   "execution_count": 4,
   "metadata": {},
   "outputs": [],
   "source": [
    "df = pd.read_csv(\"StockData.csv\")\n",
    "df2 = pd.read_csv(\"CleanedNewData.csv\")\n",
    "df2 = df2.drop('Unnamed: 0', axis=1)"
   ]
  },
  {
   "cell_type": "code",
   "execution_count": 5,
   "metadata": {
    "scrolled": true
   },
   "outputs": [],
   "source": [
    "#new data frame to us with df2 to determine what article were posted on non-business days.\n",
    "df[\"buissnes day\"] = 1\n",
    "dfb = df[[\"buissnes day\",\"Date\"]]"
   ]
  },
  {
   "cell_type": "code",
   "execution_count": 17,
   "metadata": {},
   "outputs": [
    {
     "name": "stderr",
     "output_type": "stream",
     "text": [
      "<ipython-input-17-63ddd7fd5878>:2: SettingWithCopyWarning: \n",
      "A value is trying to be set on a copy of a slice from a DataFrame.\n",
      "Try using .loc[row_indexer,col_indexer] = value instead\n",
      "\n",
      "See the caveats in the documentation: https://pandas.pydata.org/pandas-docs/stable/user_guide/indexing.html#returning-a-view-versus-a-copy\n",
      "  dfb[\"merge\"] = pd.to_datetime(dfb[\"Date\"])\n"
     ]
    }
   ],
   "source": [
    "#make new column to reliably merge the two datasets on\n",
    "dfb[\"merge\"] = pd.to_datetime(dfb[\"Date\"])\n",
    "df2[\"merge\"] =  pd.to_datetime(df2[\"Time\"])"
   ]
  },
  {
   "cell_type": "code",
   "execution_count": 11,
   "metadata": {},
   "outputs": [],
   "source": [
    "#merge dataset\n",
    "result = pd.merge(df2, dfb, how='left', on=['merge'])"
   ]
  },
  {
   "cell_type": "code",
   "execution_count": 12,
   "metadata": {},
   "outputs": [],
   "source": [
    "result = result.fillna(0)\n",
    "temp0 = result"
   ]
  },
  {
   "cell_type": "markdown",
   "metadata": {},
   "source": [
    "Funtions developed that combines rows of news data that take place on non buissness days. "
   ]
  },
  {
   "cell_type": "code",
   "execution_count": 13,
   "metadata": {},
   "outputs": [],
   "source": [
    "def Eliminalterows(NewsX):\n",
    "    indexs = []\n",
    "    new = []\n",
    "    for index, row in NewsX.iterrows():\n",
    "        x = NewsX.loc[index,\"buissnes day\"]\n",
    "        temp = index + 1\n",
    "        if x == 0:\n",
    "            indexs.append(index)\n",
    "            indexs.append(temp)\n",
    "            hold = []\n",
    "            count = 0\n",
    "            for (columnName, columnData) in NewsX.loc[index].iteritems():\n",
    "                if columnName == \"Time\" or columnName == \"buissnes day\" or columnName == \"Date\" or columnName == \"merge\" :\n",
    "                    data = NewsX.loc[temp,columnName]\n",
    "                    hold.append(data)\n",
    "                else:\n",
    "                    X = columnData\n",
    "                    Y = NewsX.loc[temp,columnName]\n",
    "                    val1 = X + Y\n",
    "\n",
    "                    val2 = val1/2\n",
    "                    if count > 12:\n",
    "                        X = columnData\n",
    "                        Y = NewsX.loc[temp,columnName]\n",
    "\n",
    "                        val1 = X + Y\n",
    "                        val2 = int(val1)/2\n",
    "                        if val2 != 0:\n",
    "                            val2 = 1.0\n",
    "                            hold.append(val2)\n",
    "                        else:\n",
    "                            hold.append(val2)                    \n",
    "                    else:\n",
    "                        hold.append(val2)\n",
    "                count = count + 1\n",
    "            new.append(hold)\n",
    "\n",
    "\n",
    "        if temp == NewsX.shape[0] - 1:\n",
    "            break\n",
    "    return new, indexs \n",
    "def removeduprows(df):    \n",
    "    new, index = Eliminalterows(df)\n",
    "    dups = len(index)\n",
    "    print(\"dup row count:\" , dups)\n",
    "    new1 = pd.DataFrame(new, columns = df.columns)\n",
    "    out = df.drop(index)\n",
    "    out = pd.concat([out, new1], axis=0, sort=False)\n",
    "    out = out.sort_values(by=['merge'])\n",
    "    out = out.reset_index(drop=True)\n",
    "    return out"
   ]
  },
  {
   "cell_type": "code",
   "execution_count": 14,
   "metadata": {},
   "outputs": [
    {
     "name": "stdout",
     "output_type": "stream",
     "text": [
      "dup row count: 324\n",
      "dup row count: 48\n",
      "dup row count: 4\n",
      "dup row count: 0\n"
     ]
    }
   ],
   "source": [
    "out = removeduprows(temp0)\n",
    "out2 = removeduprows(out)\n",
    "out3 = removeduprows(out2)\n",
    "out4 = removeduprows(out3)"
   ]
  },
  {
   "cell_type": "code",
   "execution_count": 24,
   "metadata": {},
   "outputs": [],
   "source": [
    "#clean final output for the completed news data\n",
    "BisDayNews = out4.drop(['buissnes day','Date', 'merge'], axis=1)\n",
    "BisDayNews = out4.drop('Time', axis=1)"
   ]
  },
  {
   "cell_type": "code",
   "execution_count": null,
   "metadata": {},
   "outputs": [],
   "source": [
    "BisDayNews.to_csv('BisDayNews.csv')"
   ]
  }
 ],
 "metadata": {
  "kernelspec": {
   "display_name": "Python 3",
   "language": "python",
   "name": "python3"
  },
  "language_info": {
   "codemirror_mode": {
    "name": "ipython",
    "version": 3
   },
   "file_extension": ".py",
   "mimetype": "text/x-python",
   "name": "python",
   "nbconvert_exporter": "python",
   "pygments_lexer": "ipython3",
   "version": "3.8.3"
  }
 },
 "nbformat": 4,
 "nbformat_minor": 2
}
